{
 "cells": [
  {
   "cell_type": "markdown",
   "metadata": {},
   "source": [
    "<img src=\"Archivos/miia.jpg\" width=800x>\n",
    "\n",
    "# Laboratorio 1\n",
    "\n",
    "## Desarrollo de una herramienta analítica usando solo Python\n",
    "\n",
    "Este laboratorio busca evaluar las habilidades relacionadas con la primera parte del curso, correspondiente a las primeras tres semanas. Este enunciado estará disponible desde la semana 2 y deberá entregarse al final de la semana 4 en el enlace correspondiente. Su desarrollo corresponde al 30% de la calificación total del curso.\n",
    "\n",
    "Esta actividad responde directamente al segundo objetivo del curso:\n",
    "* Implementar una herramienta analítica que permita responder una pregunta de negocio para un problema sencillo de analítica de datos, utilizando únicamente algorítmica básica en Python.\n",
    "\n",
    "Al desarrollar este laboratorio pondrás a prueba tus habilidades para: \n",
    "1. Leer datos desde archivos.\n",
    "2. Almacenar datos en  estructuras de Python.\n",
    "3. Crear y llamar funciones correctamente.\n",
    "4. Implementar condicionales diferenciando *if*, *elif* y *else*\n",
    "5. Implementar ciclos diferenciando el propósito de *for* y *while*\n",
    "6. Importar paquetes y utilizar sus funciones.\n",
    "\n",
    "**NOTAS:**\n",
    "- Te recomendamos leer por completo el enunciado del laboratorio antes de comenzar, de forma que tengas claro el propósito completo de la actividad, y puedas desarrollar tu solución apuntando a él desde el comienzo.\n"
   ]
  },
  {
   "cell_type": "markdown",
   "metadata": {},
   "source": [
    "## Contexto: exploración del potencial para asignar becas Uniandes\n",
    "La Universidad de los Andes se ha caracterizado por su compromiso con la generación de impacto en la sociedad a través de diferentes programas de becas. Programas como Quiero Estudiar, o Ser Pilo Paga, entre otros, han sido revolucionarios, al permitir que estudiantes de bajos recursos puedan acceder a una de las universidades privadas más importantes del país.\n",
    "\n",
    "Actualmente, la Universidad quiere evaluar el potencial impacto que tendrían algunos programas de *acción afirmativa* para asignación de becas, con base en información demográfica que ha obtenido a través de encuestas. Se cuenta con información respecto a la edad, género, estado civil, estrato socio-económico, región de proveniencia, desempeño académico y nivel de escolaridad de las personas que han respondido encuestas. Los encargados de diseñar el programa saben que utilizar criterios basados en este tipo de variables es un tema sensible, pero es necesario si se quieren focalizar las oportunidades en poblaciones menos representadas.\n",
    "\n",
    "El objetivo de este laboratorio es crear una herramienta computacional que permita a un tomador de decisiones explorar qué efecto podría tener el uso de diferentes reglas para seleccionar la población que sería beneficiaria de las becas. Puntualmente, se espera que, dadas unas reglas de selección (ej.: pertenecer a cierta región, rango de edad, etc.), la herramienta ofrezca información sobre la población potencialmente beneficiada, de forma que exista un sustento al momento de definir las reglas de selección."
   ]
  },
  {
   "cell_type": "markdown",
   "metadata": {},
   "source": [
    "## 1. Obtención e inspección de archivos\n",
    "\n",
    "Los datos de encuestas fueron obtenidos como parte de un trabajo de campo, y por limitaciones tecnológicas, solo se cuenta con la información en archivos de texto plano. Cada archivo corresponde a una de las variables antes mencionadas y se puede garantizar que todos relacionan a las personas encuestadas en el mismo orden (i.e., la primera línea de todos los archivos corresponde a datos de la primera persona encuestada, la segunda línea a la segunda persona, etc.).\n",
    "\n",
    "Los archivos con los que se cuenta son:\n",
    "* *edades.txt*: un archivo ordenado con las edades de cada persona de la población encuestada \n",
    "* *género.txt*: un archivo ordenado con el género de cada persona de la población encuestada \n",
    "* *estado_civil.txt*: un archivo ordenado con el estado civil de cada persona de la población encuestada \n",
    "* *escolaridad.txt*: un archivo ordenado con el nivel de escolaridad de cada persona de la población encuestada \n",
    "* *estrato.txt*: un archivo ordenado con el estrato socio-económico de cada persona de la población encuestada\n",
    "* *region.txt*: un archivo ordenado con la región de proveniencia de cada persona de la población encuestada"
   ]
  },
  {
   "cell_type": "markdown",
   "metadata": {},
   "source": [
    "**Misión 1**\n",
    "\n",
    "Poner en variables de Python la información que está en los archivos listados arriba.\n",
    "\n",
    "* *Versión base*: escribe línea a línea el código necesario para poner en variables de Python la información de cada uno de los archivos.\n",
    "\n",
    "* *Milla extra*: escribe una función que sea capaz de hacer lo anterior para un archivo y úsala en un ciclo para automatizar la lectura de los diferentes archivos."
   ]
  },
  {
   "cell_type": "code",
   "execution_count": 1,
   "metadata": {},
   "outputs": [],
   "source": [
    "# código\n",
    "def cargar_txt(_filename):\n",
    "    with open(_filename, encoding=\"UTF-8\") as file:\n",
    "        return file.read().splitlines()\n",
    "    \n",
    "def str_to_num(_list):\n",
    "    float_map = map(float, _list)\n",
    "    return list(float_map)\n",
    "    \n",
    "root_dir = \"./Archivos/\"\n",
    "ext = \".txt\"\n",
    "archivos = [\"edad\", \"escolaridad\", \"estado_civil\", \"estrato\", \"genero\", \"region\", \"promedio\"]\n",
    "datos = {label: cargar_txt(root_dir + label + ext) for label in archivos}\n",
    "datos[\"edad\"] = str_to_num(datos[\"edad\"])\n",
    "datos[\"promedio\"] = str_to_num(datos[\"promedio\"])"
   ]
  },
  {
   "cell_type": "markdown",
   "metadata": {},
   "source": [
    "**Misión 2**\n",
    "\n",
    "Reportar las principales características en los datos.\n",
    "* *Versión base*: utilizar métricas básicas como conteos o promedios por categorías en los datos.\n",
    "* *Milla extra*: utilizar visualizaciones simples como diagramas de barras, de pastel u otros."
   ]
  },
  {
   "cell_type": "code",
   "execution_count": 2,
   "metadata": {},
   "outputs": [],
   "source": [
    "# código\n",
    "\n",
    "# importación de paquetes necesarios\n",
    "import math\n",
    "import matplotlib.pyplot as plt\n",
    "\n",
    "# función que calcula la mediana de una lista de datos numéricos\n",
    "def mediana(_list):\n",
    "    _sorted_list = sorted(_list)\n",
    "    n = len(_sorted_list)\n",
    "    if n % 2 == 0:\n",
    "        return (_sorted_list[n//2] + _sorted_list[n//2 - 1]) / 2\n",
    "    else:\n",
    "        return _sorted_list[n//2]\n",
    "\n",
    "# función que calcula la media de una lista de datos numéricos\n",
    "def media(_list):\n",
    "    _media = 0\n",
    "    for valor in _list:\n",
    "        _media += valor\n",
    "    return _media / len(_list)\n",
    "\n",
    "# función que calcula el conteo por valor discreto (o categórico)\n",
    "def conteo(_list):\n",
    "    _conteo = {}\n",
    "    for valor in _list:\n",
    "        if valor in _conteo:\n",
    "            _conteo[valor] += 1\n",
    "        else:\n",
    "            _conteo[valor] = 1\n",
    "    return _conteo\n",
    "\n",
    "# función que calcula la moda de una lista de datos discretos (o categóricos)\n",
    "def moda(_list):\n",
    "    _conteo = conteo(_list)\n",
    "    max_conteo = 0\n",
    "    valores = []\n",
    "    for c in _conteo.values():\n",
    "        if c > max_conteo:\n",
    "            max_conteo = c\n",
    "            \n",
    "    for v, c in _conteo.items():\n",
    "        if c == max_conteo:\n",
    "            valores.append(v)\n",
    "            \n",
    "    return valores, max_conteo\n",
    "\n",
    "# función que calcula la desviación de una lista de datos numéricos\n",
    "def desviacion_estandar(_list):\n",
    "    var = 0\n",
    "    _media = media(_list)\n",
    "    for valor in _list:\n",
    "        var += ((valor - _media) ** 2)/len(_list)\n",
    "    return math.sqrt(var)"
   ]
  },
  {
   "cell_type": "code",
   "execution_count": 3,
   "metadata": {},
   "outputs": [
    {
     "name": "stdout",
     "output_type": "stream",
     "text": [
      "       variable           media              sd         mediana         moda(s)       # moda(s)\n",
      "           edad             n/a             n/a             n/a          [24.0]              14\n",
      "    escolaridad             n/a             n/a             n/a  ['Secundaria']             343\n",
      "   estado_civil             n/a             n/a             n/a      ['casada']             199\n",
      "        estrato             n/a             n/a             n/a           ['2']             185\n",
      "         genero             n/a             n/a             n/a    ['femenino']             251\n",
      "         region             n/a             n/a             n/a      ['Caribe']             193\n",
      "       promedio            2.62            1.12             2.7           [3.0]              37\n"
     ]
    }
   ],
   "source": [
    "# Presentación de métricas básicas\n",
    "\n",
    "# La media, mediana y la desviación estándar aplicarían solo para valores numéricos continuos.\n",
    "# Solo para el promedio en este caso.\n",
    "def generar_estadisticas(_datos, continuos):\n",
    "    estadisticas = {}\n",
    "    for label, lista in _datos.items():\n",
    "        if label in continuos:\n",
    "            _media = round(media(lista), 2)\n",
    "            _mediana = round(mediana(lista), 2)\n",
    "            _sd = round(desviacion_estandar(lista), 2)\n",
    "        else:\n",
    "            _media = \"n/a\"\n",
    "            _mediana = \"n/a\"\n",
    "            _sd = \"n/a\"\n",
    "        _moda = moda(lista)\n",
    "        estadisticas[label] = {\n",
    "            \"media\": _media,\n",
    "            \"sd\": _sd,\n",
    "            \"mediana\": _mediana,\n",
    "            \"moda\": _moda[0],\n",
    "            \"# moda\": _moda[1]\n",
    "        }\n",
    "    return estadisticas\n",
    "\n",
    "def escribir_tabla_estadisticos(_datos):\n",
    "    estadisticas = generar_estadisticas(_datos, {\"promedio\"})\n",
    "    table = []\n",
    "    header = [\"variable\", \"media\", \"sd\", \"mediana\", \"moda(s)\", \"# moda(s)\"]\n",
    "    table.append(header)\n",
    "    for variable, valores in estadisticas.items():\n",
    "        row = [variable,\n",
    "               str(valores[\"media\"]),\n",
    "               str(valores[\"sd\"]),\n",
    "               str(valores[\"mediana\"]),\n",
    "               str(valores[\"moda\"]),\n",
    "               str(valores[\"# moda\"])]\n",
    "        table.append(row)\n",
    "    for row in table:\n",
    "        print(\"{: >15} {: >15} {: >15} {: >15} {: >15} {: >15}\".format(*row))\n",
    "\n",
    "escribir_tabla_estadisticos(datos)"
   ]
  },
  {
   "cell_type": "code",
   "execution_count": 4,
   "metadata": {},
   "outputs": [
    {
     "data": {
      "image/png": "[encoded data removed]",
      "text/plain": [
       "<Figure size 432x288 with 1 Axes>"
      ]
     },
     "metadata": {
      "needs_background": "light"
     },
     "output_type": "display_data"
    },
    {
     "data": {
      "image/png": "[encoded data removed]",
      "text/plain": [
       "<Figure size 432x288 with 1 Axes>"
      ]
     },
     "metadata": {
      "needs_background": "light"
     },
     "output_type": "display_data"
    },
    {
     "data": {
      "image/png": "[encoded data removed]",
      "text/plain": [
       "<Figure size 432x288 with 1 Axes>"
      ]
     },
     "metadata": {
      "needs_background": "light"
     },
     "output_type": "display_data"
    },
    {
     "data": {
      "image/png": "[encoded data removed]",
      "text/plain": [
       "<Figure size 432x288 with 1 Axes>"
      ]
     },
     "metadata": {
      "needs_background": "light"
     },
     "output_type": "display_data"
    },
    {
     "data": {
      "image/png": "[encoded data removed]",
      "text/plain": [
       "<Figure size 432x288 with 1 Axes>"
      ]
     },
     "metadata": {
      "needs_background": "light"
     },
     "output_type": "display_data"
    },
    {
     "data": {
      "image/png": "[encoded data removed]",
      "text/plain": [
       "<Figure size 432x288 with 1 Axes>"
      ]
     },
     "metadata": {
      "needs_background": "light"
     },
     "output_type": "display_data"
    },
    {
     "data": {
      "image/png": "[encoded data removed]",
      "text/plain": [
       "<Figure size 432x288 with 1 Axes>"
      ]
     },
     "metadata": {
      "needs_background": "light"
     },
     "output_type": "display_data"
    }
   ],
   "source": [
    "def my_plot(data, hist_mode=False, label='Data', n=10):\n",
    "    if hist_mode:\n",
    "        plt.hist(data, bins=n, rwidth=0.8)\n",
    "        plt.ylabel('Frequency')\n",
    "        plt.xlabel(label)\n",
    "    else:\n",
    "        fig = plt.figure()\n",
    "        ax = fig.add_axes([0,0,1,1])\n",
    "        _conteo = conteo(data)\n",
    "        ax.bar(_conteo.keys(), _conteo.values())\n",
    "        plt.xlabel(label)\n",
    "    plt.show()\n",
    "    \n",
    "\n",
    "def plot_all(_datos):\n",
    "    my_plot(_datos[\"promedio\"], hist_mode=True, label='Promedio')\n",
    "    my_plot(_datos[\"edad\"], hist_mode=True, label='Edad')\n",
    "    my_plot(_datos[\"escolaridad\"], label=\"Escolaridad\")\n",
    "    my_plot(_datos[\"estado_civil\"], label=\"Estado Civil\")\n",
    "    my_plot(_datos[\"estrato\"], label=\"Estrato\")\n",
    "    my_plot(_datos[\"genero\"], label=\"Genero\")\n",
    "    my_plot(_datos[\"region\"], label=\"Region\")\n",
    "    \n",
    "plot_all(datos)"
   ]
  },
  {
   "cell_type": "markdown",
   "metadata": {},
   "source": [
    "## 2. Abordaje de la pregunta de negocio\n",
    "\n",
    "El comité encargado de diseñar el programa de becas ha tenido dificultades para llegar a acuerdos. Algunos piensan que el criterio principal de selección debería ser respecto a lo económico y académico, sin importar otras características personales, mientras que otros piensan que considerar estas características es, de hecho, parte del espíritu del programa.\n",
    "\n",
    "* El primer grupo sugiere que se deben tomar en orden ascendente los estratos y elegir, en cada uno de ellos, al 2% de personas con promedio académico superior en esa sub-población, hasta que se agoten las becas disponibles. En caso de quedar becas disponibles al final del proceso, se repite el mismo esquema, considerando que ya no se tienen en cuenta las personas que hayan sido elegidas en rondas anteriores.\n",
    "\n",
    "* El segundo grupo sugiere que los recibidores de becas deben estar igualmente distribuidos entre las diferentes regiones y generos, considerando, por supuesto, que para cada una de esas sub-poblaciones, las personas elegidas sean las de mejores promedios académicos.\n",
    "\n",
    "Dado que las diferencias entre estos grupos obedecen a su entendimiento particular del problema, el presidente del comité propone utilizar los datos disponibles de las encuestas, sugiriendo que se analice qué características tendría la población de elegidos bajo cada uno de los dos criterios expuestos."
   ]
  },
  {
   "cell_type": "markdown",
   "metadata": {},
   "source": [
    "**Misión 3**\n",
    "\n",
    "Defina la pregunta de negocio y la pregunta de *analytics* para esta situación."
   ]
  },
  {
   "cell_type": "code",
   "execution_count": 5,
   "metadata": {},
   "outputs": [
    {
     "name": "stdout",
     "output_type": "stream",
     "text": [
      "Pregunta de negocio:\n",
      "¿Cual es el mejor procedimiento para la asignación de becas?\n",
      "\n",
      "Pregunta Analytics:\n",
      "¿Qué características surgen de la realización de cada procedimiento con respecto a la población que me permiten comparar y tomar una decisión?\n"
     ]
    }
   ],
   "source": [
    "# respuesta en texto (solo leeremos los primeros 300 caracteres de la respuesta)\n",
    "\n",
    "pregunta_negocio = '¿Cual es el mejor procedimiento para la asignación de becas?'\n",
    "\n",
    "pregunta_analytics = '¿Qué características surgen de la realización de cada procedimiento con respecto '\\\n",
    "'a la población que me permiten comparar y tomar una decisión?'\n",
    "\n",
    "print(\"Pregunta de negocio:\")\n",
    "print(pregunta_negocio)\n",
    "print(\"\")\n",
    "print(\"Pregunta Analytics:\")\n",
    "print(pregunta_analytics)"
   ]
  },
  {
   "cell_type": "markdown",
   "metadata": {},
   "source": [
    "**Misión 4**\n",
    "\n",
    "Desarrollar un algoritmo que permita conocer la población que sería becada según los criterios propuestos por el *primer grupo* mencionado arriba."
   ]
  },
  {
   "cell_type": "code",
   "execution_count": 6,
   "metadata": {},
   "outputs": [],
   "source": [
    "# código\n",
    "def procedimiento_1(_datos, proporcion, nbecas):\n",
    "    grupo = \"estrato\"\n",
    "    if proporcion <= 0:\n",
    "        return {}\n",
    "    \n",
    "    grupos = {}\n",
    "    for indice, grupo_promedio in enumerate(zip(_datos[grupo], _datos[\"promedio\"])):\n",
    "        if grupo_promedio[0] in grupos:\n",
    "            grupos[grupo_promedio[0]].append((indice, grupo_promedio[1]))\n",
    "        else:\n",
    "            grupos[grupo_promedio[0]] = [(indice, grupo_promedio[1])]\n",
    "    \n",
    "    sorted_grupos = sorted(grupos)\n",
    "    becados = set()\n",
    "    \n",
    "    while len(becados) < nbecas:\n",
    "        safe_check = 0\n",
    "        for grupo in sorted_grupos:\n",
    "            promedios = [p[1] for p in grupos[grupo]]\n",
    "            media_grupo = media(promedios)\n",
    "            disponibilidad = math.floor(len(promedios) * proporcion)\n",
    "            if disponibilidad > 0:\n",
    "                becados_grupo = 0\n",
    "                # arbitrariamente decido que hay prioridad en los mejores promedios\n",
    "                estudiantes_sorted = sorted(grupos[grupo], reverse=True, key=lambda x: x[1])\n",
    "                for estudiante in estudiantes_sorted:\n",
    "                    if estudiante[0] not in becados and estudiante[1] > media_grupo:\n",
    "                        safe_check += 1\n",
    "                        becados_grupo += 1\n",
    "                        becados.add(estudiante[0])\n",
    "                        if len(becados) >= nbecas or becados_grupo >= disponibilidad:\n",
    "                            break\n",
    "                    if estudiante[1] <= media_grupo:\n",
    "                        break\n",
    "            if len(becados) >= nbecas:\n",
    "                break\n",
    "        if safe_check == 0:\n",
    "            break\n",
    "            \n",
    "    # devolvemos un dict igual al inicial para poderlos comparar\n",
    "    n_datos = {}\n",
    "    for label, valores in _datos.items():\n",
    "        n_datos[label] = [v for i, v in enumerate(valores) if i in becados]\n",
    "    \n",
    "    return n_datos"
   ]
  },
  {
   "cell_type": "markdown",
   "metadata": {},
   "source": [
    "**Misión 5**\n",
    "\n",
    "Desarrollar un algoritmo que permita conocer la población que sería becada según los criterios propuestos por el *segundo grupo* mencionado arriba."
   ]
  },
  {
   "cell_type": "code",
   "execution_count": 30,
   "metadata": {},
   "outputs": [],
   "source": [
    "# código\n",
    "def procedimiento_2(_datos, prop_region, prop_genero, nbecas):\n",
    "    conteo_regiones = conteo(_datos[\"region\"])\n",
    "    conteo_genero = conteo(_datos[\"genero\"])\n",
    "\n",
    "    grupos = {}\n",
    "    for indice, grupo_promedio in enumerate(zip(_datos[\"region\"], _datos[\"promedio\"])):\n",
    "        if grupo_promedio[0] in grupos:\n",
    "            grupos[grupo_promedio[0]].append((indice, grupo_promedio[1]))\n",
    "        else:\n",
    "            grupos[grupo_promedio[0]] = [(indice, grupo_promedio[1])]\n",
    "            \n",
    "    becados = set()\n",
    "    \n",
    "    while len(becados) < nbecas:\n",
    "        safe_check = 0\n",
    "        for grupo in grupos:\n",
    "            promedios = [p[1] for p in grupos[grupo]]\n",
    "            disponibilidad = math.floor(len(promedios) * prop_region[grupo])\n",
    "            if disponibilidad > 0:\n",
    "                becados_grupo = 0\n",
    "                estudiantes_sorted = sorted(grupos[grupo], reverse=True, key=lambda x: x[1])\n",
    "                for estudiante in estudiantes_sorted:\n",
    "                    becados_subgrupo = 0\n",
    "                    for genero in conteo_genero.keys():\n",
    "                        disponibilidad_2 = math.floor(disponibilidad * prop_genero[genero])\n",
    "                        if disponibilidad_2 > 0:\n",
    "                            if estudiante[0] not in becados:\n",
    "                                if _datos[\"genero\"][estudiante[0]] == genero:\n",
    "                                    safe_check += 1\n",
    "                                    becados_subgrupo += 1\n",
    "                                    becados.add(estudiante[0])\n",
    "                                    if len(becados) >= nbecas or becados_subgrupo >= disponibilidad_2:\n",
    "                                        break\n",
    "                    becados_grupo += becados_subgrupo\n",
    "                    if len(becados) >= nbecas or becados_grupo >= disponibilidad:\n",
    "                        break\n",
    "            if len(becados) >= nbecas:\n",
    "                break\n",
    "        if safe_check == 0:\n",
    "            break\n",
    "            \n",
    "    # devolvemos un dict igual al inicial para poderlos comparar\n",
    "    n_datos = {}\n",
    "    for label, valores in _datos.items():\n",
    "        n_datos[label] = [v for i, v in enumerate(valores) if i in becados]\n",
    "        \n",
    "    return n_datos"
   ]
  },
  {
   "cell_type": "markdown",
   "metadata": {},
   "source": [
    "**Misión 6**\n",
    "\n",
    "Desarrollar un algoritmo, a partir de lo anterior, cuyo resultado permita al comité comparar fácilmente las características de las dos poblaciones hipotéticas que recibirían becas.\n",
    "\n",
    "*Ayuda*: considera utilizar tus implementaciones de la *Misión 2* para facilitar esta misión."
   ]
  },
  {
   "cell_type": "code",
   "execution_count": 27,
   "metadata": {},
   "outputs": [],
   "source": [
    "# código\n",
    "nbecas = 50"
   ]
  },
  {
   "cell_type": "code",
   "execution_count": 28,
   "metadata": {},
   "outputs": [],
   "source": [
    "def comparacion(proc_1, proc_2):\n",
    "    '''\n",
    "    Procedimiento 1\n",
    "    '''\n",
    "    print('-----------Procedimiento 1-----------')\n",
    "    escribir_tabla_estadisticos(proc_1)\n",
    "    print('Total: {}'.format(len(proc_1[\"promedio\"])))\n",
    "    \n",
    "    plot_all(proc_1)\n",
    "    \n",
    "    '''\n",
    "    Procedimiento 2\n",
    "    '''\n",
    "    print('-----------Procedimiento 2-----------')\n",
    "    escribir_tabla_estadisticos(proc_2)\n",
    "    print('Total: {}'.format(len(proc_2[\"promedio\"])))\n",
    "    \n",
    "    plot_all(proc_2)"
   ]
  },
  {
   "cell_type": "code",
   "execution_count": 31,
   "metadata": {},
   "outputs": [
    {
     "name": "stdout",
     "output_type": "stream",
     "text": [
      "-----------Procedimiento 1-----------\n",
      "       variable           media              sd         mediana         moda(s)       # moda(s)\n",
      "           edad             n/a             n/a             n/a          [54.0]               4\n",
      "    escolaridad             n/a             n/a             n/a  ['Secundaria']              34\n",
      "   estado_civil             n/a             n/a             n/a      ['casada']              24\n",
      "        estrato             n/a             n/a             n/a      ['2', '3']              18\n",
      "         genero             n/a             n/a             n/a    ['femenino']              25\n",
      "         region             n/a             n/a             n/a ['Andina', 'Caribe']              16\n",
      "       promedio            4.37            0.35             4.3           [4.0]              11\n",
      "Total: 50\n"
     ]
    },
    {
     "data": {
      "image/png": "[encoded data removed]",
      "text/plain": [
       "<Figure size 432x288 with 1 Axes>"
      ]
     },
     "metadata": {
      "needs_background": "light"
     },
     "output_type": "display_data"
    },
    {
     "data": {
      "image/png": "[encoded data removed]",
      "text/plain": [
       "<Figure size 432x288 with 1 Axes>"
      ]
     },
     "metadata": {
      "needs_background": "light"
     },
     "output_type": "display_data"
    },
    {
     "data": {
      "image/png": "[encoded data removed]",
      "text/plain": [
       "<Figure size 432x288 with 1 Axes>"
      ]
     },
     "metadata": {
      "needs_background": "light"
     },
     "output_type": "display_data"
    },
    {
     "data": {
      "image/png": "[encoded data removed]",
      "text/plain": [
       "<Figure size 432x288 with 1 Axes>"
      ]
     },
     "metadata": {
      "needs_background": "light"
     },
     "output_type": "display_data"
    },
    {
     "data": {
      "image/png": "[encoded data removed]",
      "text/plain": [
       "<Figure size 432x288 with 1 Axes>"
      ]
     },
     "metadata": {
      "needs_background": "light"
     },
     "output_type": "display_data"
    },
    {
     "data": {
      "image/png": "[encoded data removed]",
      "text/plain": [
       "<Figure size 432x288 with 1 Axes>"
      ]
     },
     "metadata": {
      "needs_background": "light"
     },
     "output_type": "display_data"
    },
    {
     "data": {
      "image/png": "[encoded data removed]",
      "text/plain": [
       "<Figure size 432x288 with 1 Axes>"
      ]
     },
     "metadata": {
      "needs_background": "light"
     },
     "output_type": "display_data"
    },
    {
     "name": "stdout",
     "output_type": "stream",
     "text": [
      "-----------Procedimiento 2-----------\n",
      "       variable           media              sd         mediana         moda(s)       # moda(s)\n",
      "           edad             n/a             n/a             n/a          [54.0]               5\n",
      "    escolaridad             n/a             n/a             n/a  ['Secundaria']              30\n",
      "   estado_civil             n/a             n/a             n/a      ['casada']              20\n",
      "        estrato             n/a             n/a             n/a           ['1']              17\n",
      "         genero             n/a             n/a             n/a   ['masculino']              24\n",
      "         region             n/a             n/a             n/a      ['Andina']              28\n",
      "       promedio            4.21            0.42             4.0      [4.0, 3.8]               8\n",
      "Total: 50\n"
     ]
    },
    {
     "data": {
      "image/png": "[encoded data removed]",
      "text/plain": [
       "<Figure size 432x288 with 1 Axes>"
      ]
     },
     "metadata": {
      "needs_background": "light"
     },
     "output_type": "display_data"
    },
    {
     "data": {
      "image/png": "[encoded data removed]",
      "text/plain": [
       "<Figure size 432x288 with 1 Axes>"
      ]
     },
     "metadata": {
      "needs_background": "light"
     },
     "output_type": "display_data"
    },
    {
     "data": {
      "image/png": "[encoded data removed]",
      "text/plain": [
       "<Figure size 432x288 with 1 Axes>"
      ]
     },
     "metadata": {
      "needs_background": "light"
     },
     "output_type": "display_data"
    },
    {
     "data": {
      "image/png": "[encoded data removed]",
      "text/plain": [
       "<Figure size 432x288 with 1 Axes>"
      ]
     },
     "metadata": {
      "needs_background": "light"
     },
     "output_type": "display_data"
    },
    {
     "data": {
      "image/png": "[encoded data removed]",
      "text/plain": [
       "<Figure size 432x288 with 1 Axes>"
      ]
     },
     "metadata": {
      "needs_background": "light"
     },
     "output_type": "display_data"
    },
    {
     "data": {
      "image/png": "[encoded data removed]",
      "text/plain": [
       "<Figure size 432x288 with 1 Axes>"
      ]
     },
     "metadata": {
      "needs_background": "light"
     },
     "output_type": "display_data"
    },
    {
     "data": {
      "image/png": "[encoded data removed]",
      "text/plain": [
       "<Figure size 432x288 with 1 Axes>"
      ]
     },
     "metadata": {
      "needs_background": "light"
     },
     "output_type": "display_data"
    }
   ],
   "source": [
    "'''\n",
    "Procedimiento 1\n",
    "'''\n",
    "proc_1 = procedimiento_1(datos, 0.02, nbecas)\n",
    "\n",
    "'''\n",
    "Procedimiento 2\n",
    "'''\n",
    "\n",
    "prop_region = {\n",
    "        \"Andina\": 0.2, \"Pacifica\": 0.2, \"Orinoquia\": 0.2, \"Caribe\": 0.2, \"Amazonia\": 0.2\n",
    "    }\n",
    "prop_genero = {\n",
    "        \"masculino\": 0.25, \"femenino\": 0.25, \"otro\": 0.25, \"no binario\": 0.25\n",
    "    }\n",
    "\n",
    "proc_2 = procedimiento_2(datos, prop_region, prop_genero, nbecas)\n",
    "\n",
    "\n",
    "comparacion(proc_1, proc_2)"
   ]
  },
  {
   "cell_type": "markdown",
   "metadata": {},
   "source": [
    "## 3. Desarrollo de una solución analítica\n",
    "\n",
    "Reconociendo la complejidad de este problema (que no permite reducirlo a una dicotomía) y viendo el potencial del análisis de datos para enriquecer la discusión y los insumos para tomar decisiones, el comité ha solicitado una herramienta analítica que les permita . Sus requerimientos son:\n",
    "\n",
    "* La herramienta debe permitir ingresar una política de selección de becados.\n",
    "    * Se debe poder elegir el rango de edad de los aspirantes.\n",
    "    * Se debe poder elegir qué proporción de las becas se asigna a cada género, a cada estrato, o a cada región (pero sólo debe elegirse uno de estos criterios).\n",
    "* La herramienta debe generar un resultado que permita al comité analizar las características de la población potencialmente elegida si se usara la política ingresada.\n",
    "\n",
    "**Misión 7**\n",
    "\n",
    "Desarrollar, a partir de lo construido hasta el momento, un algoritmo que permita cumplir con los requerimientos del comité."
   ]
  },
  {
   "cell_type": "code",
   "execution_count": 46,
   "metadata": {},
   "outputs": [
    {
     "data": {
      "text/plain": [
       "{'edad': [26.0,\n",
       "  30.0,\n",
       "  26.0,\n",
       "  30.0,\n",
       "  30.0,\n",
       "  27.0,\n",
       "  30.0,\n",
       "  27.0,\n",
       "  28.0,\n",
       "  29.0,\n",
       "  29.0,\n",
       "  26.0,\n",
       "  27.0,\n",
       "  29.0,\n",
       "  28.0,\n",
       "  29.0,\n",
       "  27.0,\n",
       "  27.0,\n",
       "  30.0,\n",
       "  27.0,\n",
       "  25.0,\n",
       "  30.0,\n",
       "  29.0,\n",
       "  29.0,\n",
       "  28.0,\n",
       "  30.0,\n",
       "  30.0,\n",
       "  29.0,\n",
       "  25.0,\n",
       "  26.0,\n",
       "  27.0,\n",
       "  29.0,\n",
       "  27.0,\n",
       "  28.0,\n",
       "  27.0,\n",
       "  28.0,\n",
       "  30.0,\n",
       "  28.0,\n",
       "  25.0,\n",
       "  25.0,\n",
       "  29.0,\n",
       "  29.0,\n",
       "  27.0,\n",
       "  26.0,\n",
       "  25.0],\n",
       " 'escolaridad': ['Secundaria',\n",
       "  'Secundaria',\n",
       "  'Secundaria',\n",
       "  'Maestria',\n",
       "  'Secundaria',\n",
       "  'Secundaria',\n",
       "  'Secundaria',\n",
       "  'Profesional',\n",
       "  'Secundaria',\n",
       "  'Secundaria',\n",
       "  'Secundaria',\n",
       "  'Secundaria',\n",
       "  'Secundaria',\n",
       "  'Secundaria',\n",
       "  'Maestria',\n",
       "  'Secundaria',\n",
       "  'Secundaria',\n",
       "  'Profesional',\n",
       "  'Secundaria',\n",
       "  'Profesional',\n",
       "  'Secundaria',\n",
       "  'Secundaria',\n",
       "  'Secundaria',\n",
       "  'Profesional',\n",
       "  'Secundaria',\n",
       "  'Secundaria',\n",
       "  'Secundaria',\n",
       "  'Profesional',\n",
       "  'Profesional',\n",
       "  'Secundaria',\n",
       "  'Secundaria',\n",
       "  'Secundaria',\n",
       "  'Secundaria',\n",
       "  'Secundaria',\n",
       "  'Primaria',\n",
       "  'Secundaria',\n",
       "  'Secundaria',\n",
       "  'Secundaria',\n",
       "  'Maestria',\n",
       "  'Maestria',\n",
       "  'Secundaria',\n",
       "  'Secundaria',\n",
       "  'Secundaria',\n",
       "  'Secundaria',\n",
       "  'Profesional'],\n",
       " 'estado_civil': ['divorciada',\n",
       "  'soltera',\n",
       "  'casada',\n",
       "  'soltera',\n",
       "  'divorciada',\n",
       "  'casada',\n",
       "  'divorciada',\n",
       "  'casada',\n",
       "  'divorciada',\n",
       "  'soltera',\n",
       "  'casada',\n",
       "  'casada',\n",
       "  'soltera',\n",
       "  'casada',\n",
       "  'divorciada',\n",
       "  'casada',\n",
       "  'soltera',\n",
       "  'divorciada',\n",
       "  'divorciada',\n",
       "  'divorciada',\n",
       "  'divorciada',\n",
       "  'divorciada',\n",
       "  'divorciada',\n",
       "  'soltera',\n",
       "  'divorciada',\n",
       "  'casada',\n",
       "  'divorciada',\n",
       "  'soltera',\n",
       "  'soltera',\n",
       "  'soltera',\n",
       "  'casada',\n",
       "  'soltera',\n",
       "  'casada',\n",
       "  'divorciada',\n",
       "  'soltera',\n",
       "  'casada',\n",
       "  'casada',\n",
       "  'divorciada',\n",
       "  'casada',\n",
       "  'casada',\n",
       "  'casada',\n",
       "  'soltera',\n",
       "  'casada',\n",
       "  'viuda',\n",
       "  'soltera'],\n",
       " 'estrato': ['2',\n",
       "  '2',\n",
       "  '2',\n",
       "  '1',\n",
       "  '3',\n",
       "  '2',\n",
       "  '2',\n",
       "  '3',\n",
       "  '4',\n",
       "  '3',\n",
       "  '1',\n",
       "  '3',\n",
       "  '1',\n",
       "  '1',\n",
       "  '3',\n",
       "  '2',\n",
       "  '2',\n",
       "  '3',\n",
       "  '1',\n",
       "  '2',\n",
       "  '1',\n",
       "  '2',\n",
       "  '3',\n",
       "  '1',\n",
       "  '1',\n",
       "  '4',\n",
       "  '2',\n",
       "  '3',\n",
       "  '1',\n",
       "  '2',\n",
       "  '2',\n",
       "  '3',\n",
       "  '3',\n",
       "  '2',\n",
       "  '2',\n",
       "  '4',\n",
       "  '2',\n",
       "  '1',\n",
       "  '3',\n",
       "  '2',\n",
       "  '2',\n",
       "  '2',\n",
       "  '2',\n",
       "  '1',\n",
       "  '3'],\n",
       " 'genero': ['otro',\n",
       "  'femenino',\n",
       "  'masculino',\n",
       "  'masculino',\n",
       "  'masculino',\n",
       "  'femenino',\n",
       "  'no binario',\n",
       "  'femenino',\n",
       "  'masculino',\n",
       "  'femenino',\n",
       "  'femenino',\n",
       "  'masculino',\n",
       "  'femenino',\n",
       "  'no binario',\n",
       "  'femenino',\n",
       "  'masculino',\n",
       "  'femenino',\n",
       "  'masculino',\n",
       "  'femenino',\n",
       "  'femenino',\n",
       "  'femenino',\n",
       "  'femenino',\n",
       "  'masculino',\n",
       "  'masculino',\n",
       "  'no binario',\n",
       "  'masculino',\n",
       "  'femenino',\n",
       "  'masculino',\n",
       "  'no binario',\n",
       "  'masculino',\n",
       "  'masculino',\n",
       "  'femenino',\n",
       "  'masculino',\n",
       "  'femenino',\n",
       "  'femenino',\n",
       "  'femenino',\n",
       "  'masculino',\n",
       "  'masculino',\n",
       "  'femenino',\n",
       "  'femenino',\n",
       "  'masculino',\n",
       "  'masculino',\n",
       "  'femenino',\n",
       "  'masculino',\n",
       "  'femenino'],\n",
       " 'region': ['Orinoquia',\n",
       "  'Caribe',\n",
       "  'Andina',\n",
       "  'Orinoquia',\n",
       "  'Caribe',\n",
       "  'Caribe',\n",
       "  'Pacifica',\n",
       "  'Caribe',\n",
       "  'Orinoquia',\n",
       "  'Caribe',\n",
       "  'Caribe',\n",
       "  'Pacifica',\n",
       "  'Pacifica',\n",
       "  'Pacifica',\n",
       "  'Pacifica',\n",
       "  'Pacifica',\n",
       "  'Orinoquia',\n",
       "  'Orinoquia',\n",
       "  'Caribe',\n",
       "  'Caribe',\n",
       "  'Pacifica',\n",
       "  'Orinoquia',\n",
       "  'Andina',\n",
       "  'Caribe',\n",
       "  'Andina',\n",
       "  'Amazonia',\n",
       "  'Caribe',\n",
       "  'Andina',\n",
       "  'Pacifica',\n",
       "  'Andina',\n",
       "  'Caribe',\n",
       "  'Andina',\n",
       "  'Caribe',\n",
       "  'Pacifica',\n",
       "  'Pacifica',\n",
       "  'Andina',\n",
       "  'Caribe',\n",
       "  'Andina',\n",
       "  'Caribe',\n",
       "  'Andina',\n",
       "  'Caribe',\n",
       "  'Caribe',\n",
       "  'Amazonia',\n",
       "  'Andina',\n",
       "  'Pacifica'],\n",
       " 'promedio': [2.1,\n",
       "  3.0,\n",
       "  3.9,\n",
       "  2.1,\n",
       "  2.5,\n",
       "  2.3,\n",
       "  3.3,\n",
       "  1.2,\n",
       "  1.3,\n",
       "  1.7,\n",
       "  2.3,\n",
       "  4.4,\n",
       "  3.0,\n",
       "  2.0,\n",
       "  3.4,\n",
       "  3.0,\n",
       "  2.8,\n",
       "  2.1,\n",
       "  4.1,\n",
       "  1.0,\n",
       "  4.0,\n",
       "  2.5,\n",
       "  1.0,\n",
       "  0.7,\n",
       "  4.8,\n",
       "  0.9,\n",
       "  4.4,\n",
       "  3.6,\n",
       "  2.2,\n",
       "  3.6,\n",
       "  3.6,\n",
       "  2.1,\n",
       "  2.9,\n",
       "  3.6,\n",
       "  1.1,\n",
       "  2.2,\n",
       "  2.5,\n",
       "  2.9,\n",
       "  3.6,\n",
       "  1.7,\n",
       "  2.4,\n",
       "  3.2,\n",
       "  4.6,\n",
       "  2.2,\n",
       "  1.4]}"
      ]
     },
     "execution_count": 46,
     "metadata": {},
     "output_type": "execute_result"
    }
   ],
   "source": [
    "# código\n",
    "'''\n",
    "Dado que el enunciado no es muy claro, asumo que la proporción del estrato aplica al criterio del grupo 1 \n",
    "y corresponde a la proporción que se debe sacar de cada estrato (parametrizar el 2% inicial). La proporción \n",
    "de género y región aplica al grupo 2 y correspondería a los porcentajes que se quieren forzar en cada región \n",
    "o género (Parametrizar lo que se enuncia como 'igualmente distribuidos' inicialmente).\n",
    "'''\n",
    "\n",
    "def herramienta(_datos, edades=None, proporcion_estrato=None, proporcion_region=None, proporcion_genero=None):\n",
    "    datos_aplicables = _datos\n",
    "    if edades != None:\n",
    "        aplicables = {estudiante for estudiante, edad in enumerate(_datos[\"edad\"]) if edades[0] <= edad <= edades[1]}\n",
    "        for label, valores in _datos.items():\n",
    "            datos_aplicables[label] = [v for e, v in enumerate(valores) if e in aplicables]\n",
    "    return datos_aplicables\n",
    "            \n",
    "            \n",
    "herramienta(datos, edades=(25, 30))"
   ]
  },
  {
   "cell_type": "markdown",
   "metadata": {},
   "source": [
    "**Misión 8**\n",
    "\n",
    "Proponer, con base en tu propio uso de la herramienta, una política de ingreso que consideres apropiada dado el contexto proporcionado. Si lo crees adecuado, explica, máximo 500 caracteres, las virtudes de tu propuesta (esto puede estar soportado en los datos, o no)."
   ]
  },
  {
   "cell_type": "code",
   "execution_count": null,
   "metadata": {},
   "outputs": [],
   "source": [
    "# respuesta en texto (solo leeremos los primeros 300 caracteres de la respuesta)\n",
    "\n",
    "respuesta = ''"
   ]
  },
  {
   "cell_type": "markdown",
   "metadata": {},
   "source": [
    "**Misión 9**\n",
    "\n",
    "Ejecutar el algoritmo desarrollado en la *Misión 7* sobre la política que sugieres proponer al comité. Explicar claramente tus conlusiones con el soporte de los resultados de la herramienta."
   ]
  },
  {
   "cell_type": "code",
   "execution_count": null,
   "metadata": {},
   "outputs": [],
   "source": [
    "# código\n",
    "\n",
    "conclusion = ''"
   ]
  },
  {
   "cell_type": "markdown",
   "metadata": {},
   "source": [
    "## Referencias\n",
    "* Discriminación Positiva<br> \n",
    "https://es.wikipedia.org/wiki/Discriminaci%C3%B3n_positiva\n",
    "* Análisis de formulación del programa “Ser Pilo Paga”<br>\n",
    "https://repository.urosario.edu.co/handle/10336/12526\n",
    "* La acción afirmativa en la Universidad de los Andes: El caso del programa \"Oportunidades para talentos nacionales\"<br> http://www.scielo.org.co/scielo.php?script=sci_arttext&pid=S0123-885X2004000300005\n",
    "* Acción afirmativa y equidad: un análisis desde la propuesta de Thomas Nagel<br>\n",
    "http://www.scielo.org.mx/scielo.php?script=sci_arttext&pid=S2007-24062016000200049"
   ]
  },
  {
   "cell_type": "markdown",
   "metadata": {},
   "source": [
    "## Créditos"
   ]
  },
  {
   "cell_type": "markdown",
   "metadata": {},
   "source": [
    "Camilo Gómez - 11/06/21<br>\n",
    "*Revisado*: 25/08/21"
   ]
  },
  {
   "cell_type": "code",
   "execution_count": null,
   "metadata": {},
   "outputs": [],
   "source": []
  }
 ],
 "metadata": {
  "kernelspec": {
   "display_name": "Python 3 (ipykernel)",
   "language": "python",
   "name": "python3"
  },
  "language_info": {
   "codemirror_mode": {
    "name": "ipython",
    "version": 3
   },
   "file_extension": ".py",
   "mimetype": "text/x-python",
   "name": "python",
   "nbconvert_exporter": "python",
   "pygments_lexer": "ipython3",
   "version": "3.8.8"
  }
 },
 "nbformat": 4,
 "nbformat_minor": 1
}
